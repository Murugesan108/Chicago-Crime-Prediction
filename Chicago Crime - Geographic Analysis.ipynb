{
 "cells": [
  {
   "cell_type": "markdown",
   "metadata": {},
   "source": [
    "# Chicago Crimes - Geographic Analysis"
   ]
  },
  {
   "cell_type": "code",
   "execution_count": 3,
   "metadata": {},
   "outputs": [],
   "source": [
    "#Refer: https://colab.research.google.com/drive/1_q0uzzxJoMMqkZYKmfo2f8WQWQdC1uVa"
   ]
  },
  {
   "cell_type": "markdown",
   "metadata": {},
   "source": [
    "##### Importing libraries"
   ]
  },
  {
   "cell_type": "code",
   "execution_count": 1,
   "metadata": {},
   "outputs": [],
   "source": [
    "from geo_chicago import geography\n",
    "import pandas as pd\n",
    "import seaborn as sns\n",
    "import matplotlib.pyplot as plt\n",
    "import folium\n",
    "from folium import plugins\n",
    "import numpy as np\n",
    "\n",
    "### Reading the input data\n",
    "community_zip = pd.read_csv(\"community_zip.csv\")\n",
    "chicago = pd.read_csv(\"Crimes_-_2001_to_present.csv\")"
   ]
  },
  {
   "cell_type": "markdown",
   "metadata": {},
   "source": [
    "## Please Select the year and crime for analysis"
   ]
  },
  {
   "cell_type": "code",
   "execution_count": 5,
   "metadata": {},
   "outputs": [],
   "source": [
    "year_selected = 2018\n",
    "crime = 'Assault'\n",
    "\n",
    "ch_18 = chicago[chicago.Year == 2018]\n",
    "ch_18.to_csv('Chicago_2018.csv',index=False)"
   ]
  },
  {
   "cell_type": "code",
   "execution_count": 22,
   "metadata": {},
   "outputs": [],
   "source": [
    "zip_counts_group,lat_long_matrix = geography(year_selected,chicago,community_zip)"
   ]
  },
  {
   "cell_type": "markdown",
   "metadata": {},
   "source": [
    "# 1. Zip Code with Most Crimes"
   ]
  },
  {
   "cell_type": "code",
   "execution_count": 19,
   "metadata": {},
   "outputs": [
    {
     "data": {
      "text/plain": [
       "'zip'"
      ]
     },
     "execution_count": 19,
     "metadata": {},
     "output_type": "execute_result"
    }
   ],
   "source": [
    "zip_counts_group"
   ]
  },
  {
   "cell_type": "code",
   "execution_count": 1,
   "metadata": {},
   "outputs": [],
   "source": [
    "m = folium.Map([41.8781, -87.6298], zoom_start=10)\n",
    "\n",
    "m.choropleth(geo_data ='zipcodes2.geojson.txt', data=zip_counts_group,\n",
    "             columns=['zip', 'count'],\n",
    "             key_on='feature.properties.ZIP',\n",
    "             threshold_scale=[0,500,1000,3000,5000,6000,7000,8000,10000,40000],\n",
    "             fill_opacity = 0.6,\n",
    "             fill_color='BuPu',\n",
    "            highlight = True)\n",
    "m"
   ]
  },
  {
   "cell_type": "markdown",
   "metadata": {},
   "source": [
    "# 2. Heat Map Analysis"
   ]
  },
  {
   "cell_type": "code",
   "execution_count": null,
   "metadata": {},
   "outputs": [],
   "source": [
    "m = folium.Map([41.8781, -87.6298], zoom_start=10)\n",
    "plugins.HeatMap(lat_long_matrix,min_opacity =0.45,max_val = 0.7,radius = 20).add_to(m)\n",
    "m"
   ]
  },
  {
   "cell_type": "markdown",
   "metadata": {},
   "source": [
    "# 3. Crime Spots"
   ]
  },
  {
   "cell_type": "code",
   "execution_count": null,
   "metadata": {},
   "outputs": [],
   "source": [
    "m = folium.Map([41.8781, -87.6298], zoom_start=10)\n",
    "plugins.MarkerCluster(lat_long_matrix).add_to(m)\n",
    "m"
   ]
  }
 ],
 "metadata": {
  "kernelspec": {
   "display_name": "Python 3",
   "language": "python",
   "name": "python3"
  },
  "language_info": {
   "codemirror_mode": {
    "name": "ipython",
    "version": 3
   },
   "file_extension": ".py",
   "mimetype": "text/x-python",
   "name": "python",
   "nbconvert_exporter": "python",
   "pygments_lexer": "ipython3",
   "version": "3.6.4"
  }
 },
 "nbformat": 4,
 "nbformat_minor": 2
}
